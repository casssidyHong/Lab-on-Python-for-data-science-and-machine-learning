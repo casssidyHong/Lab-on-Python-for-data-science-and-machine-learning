{
 "cells": [
  {
   "cell_type": "code",
   "execution_count": 53,
   "id": "59d9c1c2",
   "metadata": {},
   "outputs": [],
   "source": [
    "import pandas as pd\n",
    "import numpy as np\n",
    "from sklearn.model_selection import train_test_split, GridSearchCV\n",
    "from sklearn.preprocessing import StandardScaler\n",
    "from sklearn.neighbors import KNeighborsClassifier\n",
    "from sklearn.metrics import confusion_matrix, classification_report\n",
    "from sklearn.metrics import f1_score\n",
    "from sklearn.metrics import accuracy_score\n",
    "from sklearn.pipeline import Pipeline, FeatureUnion"
   ]
  },
  {
   "cell_type": "code",
   "execution_count": 75,
   "id": "0b31b119",
   "metadata": {
    "scrolled": false
   },
   "outputs": [
    {
     "name": "stderr",
     "output_type": "stream",
     "text": [
      "C:\\Users\\user\\AppData\\Local\\Temp\\ipykernel_2820\\1023157591.py:1: DtypeWarning: Columns (6) have mixed types. Specify dtype option on import or set low_memory=False.\n",
      "  train_data = pd.read_csv('train.csv')\n",
      "C:\\Users\\user\\AppData\\Local\\Temp\\ipykernel_2820\\1023157591.py:2: DtypeWarning: Columns (6) have mixed types. Specify dtype option on import or set low_memory=False.\n",
      "  test_data = pd.read_csv('test.csv')\n"
     ]
    }
   ],
   "source": [
    "train_data = pd.read_csv('train.csv')\n",
    "test_data = pd.read_csv('test.csv')"
   ]
  },
  {
   "cell_type": "code",
   "execution_count": 92,
   "id": "ba3cd310",
   "metadata": {},
   "outputs": [],
   "source": [
    "# Extract numerical features only\n",
    "x_train = train_data.select_dtypes(include=['float64'])\n",
    "x_test = test_data.select_dtypes(include=['float64'])\n",
    "y_train = train_data['class_num']  #specify the label that we want to predict\n",
    "y_test = test_data['class_num']"
   ]
  },
  {
   "cell_type": "code",
   "execution_count": 87,
   "id": "daede227",
   "metadata": {},
   "outputs": [],
   "source": [
    "# replace NaN value\n",
    "for column in x_train:\n",
    "    x_train[column] = x_train[column].replace(0, np.NaN)\n",
    "    mean = int(x_train[column].mean(skipna=True))\n",
    "    x_train[column] = x_train[column].replace(np.NaN, mean)\n",
    "\n",
    "for column in x_test:\n",
    "    x_test[column] = x_test[column].replace(0, np.NaN)\n",
    "    mean = int(x_test[column].mean(skipna=True))\n",
    "    x_test[column] = x_test[column].replace(np.NaN, mean)"
   ]
  },
  {
   "cell_type": "code",
   "execution_count": 88,
   "id": "4b00aa84",
   "metadata": {},
   "outputs": [],
   "source": [
    "# Feature scaling\n",
    "std_scaler = StandardScaler()\n",
    "std_x_train = std_scaler.fit_transform(x_train)\n",
    "std_x_test = std_scaler.fit_transform(x_test)"
   ]
  },
  {
   "cell_type": "code",
   "execution_count": 89,
   "id": "237d211d",
   "metadata": {},
   "outputs": [
    {
     "data": {
      "text/html": [
       "<style>#sk-container-id-6 {color: black;}#sk-container-id-6 pre{padding: 0;}#sk-container-id-6 div.sk-toggleable {background-color: white;}#sk-container-id-6 label.sk-toggleable__label {cursor: pointer;display: block;width: 100%;margin-bottom: 0;padding: 0.3em;box-sizing: border-box;text-align: center;}#sk-container-id-6 label.sk-toggleable__label-arrow:before {content: \"▸\";float: left;margin-right: 0.25em;color: #696969;}#sk-container-id-6 label.sk-toggleable__label-arrow:hover:before {color: black;}#sk-container-id-6 div.sk-estimator:hover label.sk-toggleable__label-arrow:before {color: black;}#sk-container-id-6 div.sk-toggleable__content {max-height: 0;max-width: 0;overflow: hidden;text-align: left;background-color: #f0f8ff;}#sk-container-id-6 div.sk-toggleable__content pre {margin: 0.2em;color: black;border-radius: 0.25em;background-color: #f0f8ff;}#sk-container-id-6 input.sk-toggleable__control:checked~div.sk-toggleable__content {max-height: 200px;max-width: 100%;overflow: auto;}#sk-container-id-6 input.sk-toggleable__control:checked~label.sk-toggleable__label-arrow:before {content: \"▾\";}#sk-container-id-6 div.sk-estimator input.sk-toggleable__control:checked~label.sk-toggleable__label {background-color: #d4ebff;}#sk-container-id-6 div.sk-label input.sk-toggleable__control:checked~label.sk-toggleable__label {background-color: #d4ebff;}#sk-container-id-6 input.sk-hidden--visually {border: 0;clip: rect(1px 1px 1px 1px);clip: rect(1px, 1px, 1px, 1px);height: 1px;margin: -1px;overflow: hidden;padding: 0;position: absolute;width: 1px;}#sk-container-id-6 div.sk-estimator {font-family: monospace;background-color: #f0f8ff;border: 1px dotted black;border-radius: 0.25em;box-sizing: border-box;margin-bottom: 0.5em;}#sk-container-id-6 div.sk-estimator:hover {background-color: #d4ebff;}#sk-container-id-6 div.sk-parallel-item::after {content: \"\";width: 100%;border-bottom: 1px solid gray;flex-grow: 1;}#sk-container-id-6 div.sk-label:hover label.sk-toggleable__label {background-color: #d4ebff;}#sk-container-id-6 div.sk-serial::before {content: \"\";position: absolute;border-left: 1px solid gray;box-sizing: border-box;top: 0;bottom: 0;left: 50%;z-index: 0;}#sk-container-id-6 div.sk-serial {display: flex;flex-direction: column;align-items: center;background-color: white;padding-right: 0.2em;padding-left: 0.2em;position: relative;}#sk-container-id-6 div.sk-item {position: relative;z-index: 1;}#sk-container-id-6 div.sk-parallel {display: flex;align-items: stretch;justify-content: center;background-color: white;position: relative;}#sk-container-id-6 div.sk-item::before, #sk-container-id-6 div.sk-parallel-item::before {content: \"\";position: absolute;border-left: 1px solid gray;box-sizing: border-box;top: 0;bottom: 0;left: 50%;z-index: -1;}#sk-container-id-6 div.sk-parallel-item {display: flex;flex-direction: column;z-index: 1;position: relative;background-color: white;}#sk-container-id-6 div.sk-parallel-item:first-child::after {align-self: flex-end;width: 50%;}#sk-container-id-6 div.sk-parallel-item:last-child::after {align-self: flex-start;width: 50%;}#sk-container-id-6 div.sk-parallel-item:only-child::after {width: 0;}#sk-container-id-6 div.sk-dashed-wrapped {border: 1px dashed gray;margin: 0 0.4em 0.5em 0.4em;box-sizing: border-box;padding-bottom: 0.4em;background-color: white;}#sk-container-id-6 div.sk-label label {font-family: monospace;font-weight: bold;display: inline-block;line-height: 1.2em;}#sk-container-id-6 div.sk-label-container {text-align: center;}#sk-container-id-6 div.sk-container {/* jupyter's `normalize.less` sets `[hidden] { display: none; }` but bootstrap.min.css set `[hidden] { display: none !important; }` so we also need the `!important` here to be able to override the default hidden behavior on the sphinx rendered scikit-learn.org. See: https://github.com/scikit-learn/scikit-learn/issues/21755 */display: inline-block !important;position: relative;}#sk-container-id-6 div.sk-text-repr-fallback {display: none;}</style><div id=\"sk-container-id-6\" class=\"sk-top-container\"><div class=\"sk-text-repr-fallback\"><pre>KNeighborsClassifier(n_neighbors=1)</pre><b>In a Jupyter environment, please rerun this cell to show the HTML representation or trust the notebook. <br />On GitHub, the HTML representation is unable to render, please try loading this page with nbviewer.org.</b></div><div class=\"sk-container\" hidden><div class=\"sk-item\"><div class=\"sk-estimator sk-toggleable\"><input class=\"sk-toggleable__control sk-hidden--visually\" id=\"sk-estimator-id-6\" type=\"checkbox\" checked><label for=\"sk-estimator-id-6\" class=\"sk-toggleable__label sk-toggleable__label-arrow\">KNeighborsClassifier</label><div class=\"sk-toggleable__content\"><pre>KNeighborsClassifier(n_neighbors=1)</pre></div></div></div></div></div>"
      ],
      "text/plain": [
       "KNeighborsClassifier(n_neighbors=1)"
      ]
     },
     "execution_count": 89,
     "metadata": {},
     "output_type": "execute_result"
    }
   ],
   "source": [
    "# define the KNN model\n",
    "knn = KNeighborsClassifier(n_neighbors = 1)\n",
    "\n",
    "# fit model\n",
    "knn.fit(std_x_train, y_train)"
   ]
  },
  {
   "cell_type": "code",
   "execution_count": 90,
   "id": "e9c8b512",
   "metadata": {
    "scrolled": false
   },
   "outputs": [
    {
     "data": {
      "text/plain": [
       "array([0, 0, 0, ..., 0, 0, 0], dtype=int64)"
      ]
     },
     "execution_count": 90,
     "metadata": {},
     "output_type": "execute_result"
    }
   ],
   "source": [
    "# predict the test set results\n",
    "y_pred = knn.predict(std_x_test)\n",
    "y_pred"
   ]
  },
  {
   "cell_type": "code",
   "execution_count": 93,
   "id": "3ae59a2c",
   "metadata": {
    "scrolled": false
   },
   "outputs": [
    {
     "ename": "TypeError",
     "evalue": "'list' object is not callable",
     "output_type": "error",
     "traceback": [
      "\u001b[1;31m---------------------------------------------------------------------------\u001b[0m",
      "\u001b[1;31mTypeError\u001b[0m                                 Traceback (most recent call last)",
      "Cell \u001b[1;32mIn[93], line 1\u001b[0m\n\u001b[1;32m----> 1\u001b[0m \u001b[38;5;28mprint\u001b[39m(accuracy_score(y_test, y_pred))\n",
      "\u001b[1;31mTypeError\u001b[0m: 'list' object is not callable"
     ]
    }
   ],
   "source": [
    "print(accuracy_score(y_test, y_pred))"
   ]
  },
  {
   "cell_type": "code",
   "execution_count": null,
   "id": "7c3440e6",
   "metadata": {
    "scrolled": true
   },
   "outputs": [],
   "source": [
    "accuracy_score(y_test, y_pred)"
   ]
  },
  {
   "cell_type": "code",
   "execution_count": null,
   "id": "9e25ea05",
   "metadata": {},
   "outputs": [
    {
     "name": "stdout",
     "output_type": "stream",
     "text": [
      "predict 1 success\n"
     ]
    }
   ],
   "source": [
    "error_rate = []\n",
    "for i in range(1, 11, 2):\n",
    "    knn = KNeighborsClassifier(n_neighbors = i)\n",
    "    knn.fit(std_x_train, y_train)\n",
    "    pred_i = knn.predict(std_x_test)\n",
    "    error_rate.append(np.mean(pred_i != y_test))\n",
    "    print(\"predict \"+str(i)+\" success\")\n",
    "    \n",
    "plt.figure(figsize=(10, 6))\n",
    "plt.plot(range(1,11), error_rate, color='blue', linestyle='dashed'\n",
    "        , markmarkerfacecolor = 'red', markersize=10)\n",
    "plt.title('Error Rate vs. K Value')\n",
    "plt.xlabel('K')\n",
    "plt.ylabel('Error Rate')\n",
    "    "
   ]
  },
  {
   "cell_type": "code",
   "execution_count": 71,
   "id": "f4d0275f",
   "metadata": {},
   "outputs": [],
   "source": [
    "# 添加 \"IDX, Target\" 到结果 DataFrame\n",
    "result_df = pd.DataFrame({'IDX': test_data['idx'], 'Target': y_pred})\n",
    "\n",
    "# 將結果保存為 CSV 文件\n",
    "result_df.to_csv('predicted_results0.csv', index=False)"
   ]
  },
  {
   "cell_type": "code",
   "execution_count": 39,
   "id": "1b7b9468",
   "metadata": {
    "scrolled": false
   },
   "outputs": [
    {
     "name": "stdout",
     "output_type": "stream",
     "text": [
      "[[255532   1293      0      0    180     35      0      0      1      0\n",
      "       0      0      0]\n",
      " [  1777   6581      5      1     10      0      4      0      0      0\n",
      "       2      0      0]\n",
      " [     5      7   2429      0      0      0      0      0      0      1\n",
      "       1      0      0]\n",
      " [     1      0      0   3618      0      0    168      5      0      0\n",
      "       0      0      0]\n",
      " [   423      5      0      0   4943    129     56      0      0      0\n",
      "       0      0      0]\n",
      " [    37      0      0      0     56   5975      0      0      0      0\n",
      "       0      0      0]\n",
      " [     3      4      0    117     57      0   2339      0      1      0\n",
      "       0      0      0]\n",
      " [     0      0      0     13      0      0      0    555      0      0\n",
      "       0      1      0]\n",
      " [     0      0      0      0      0      0      1      0   1019      2\n",
      "       0      0      0]\n",
      " [     0      3      3      0      1      0      0      0     16    113\n",
      "       0      0      0]\n",
      " [     1      5      2      0      0      0      0      0      0      2\n",
      "      14      0      0]\n",
      " [     0      0      0      0      0      0      0      1      0      0\n",
      "       0      3      0]\n",
      " [     0      0      0      0      0      0      0      0      0      0\n",
      "       0      0      1]]\n",
      "              precision    recall  f1-score   support\n",
      "\n",
      "           0       0.99      0.99      0.99    257041\n",
      "           1       0.83      0.79      0.81      8380\n",
      "           2       1.00      0.99      1.00      2443\n",
      "           3       0.97      0.95      0.96      3792\n",
      "           4       0.94      0.89      0.92      5556\n",
      "           5       0.97      0.98      0.98      6068\n",
      "           6       0.91      0.93      0.92      2521\n",
      "           7       0.99      0.98      0.98       569\n",
      "           8       0.98      1.00      0.99      1022\n",
      "           9       0.96      0.83      0.89       136\n",
      "          10       0.82      0.58      0.68        24\n",
      "          11       0.75      0.75      0.75         4\n",
      "          12       1.00      1.00      1.00         1\n",
      "\n",
      "    accuracy                           0.98    287557\n",
      "   macro avg       0.93      0.90      0.91    287557\n",
      "weighted avg       0.98      0.98      0.98    287557\n",
      "\n"
     ]
    }
   ],
   "source": [
    "# Evaluate Model\n",
    "confusion_mat = confusion_matrix(y_test, y_pred)\n",
    "print(confusion_mat)\n",
    "print(classification_report(y_test, y_pred))"
   ]
  },
  {
   "cell_type": "code",
   "execution_count": null,
   "id": "5e12e14b",
   "metadata": {},
   "outputs": [],
   "source": [
    "\"\"\"\n",
    "The final code that we submitted on kaggle\n",
    "\"\"\"\n",
    "import pandas as pd\n",
    "from sklearn.neighbors import KNeighborsClassifier\n",
    "from sklearn.impute import SimpleImputer\n",
    "\n",
    "# 讀取訓練數據和測試數據\n",
    "train_data = pd.read_csv('train.csv')\n",
    "test_data = pd.read_csv('test.csv')\n",
    "\n",
    "# 提取特徵（semi-major-axis 'a' 和 'H'）和目標變數（class_num）\n",
    "X_train = train_data[['a', 'H']]\n",
    "y_train = train_data['class_num']\n",
    "X_test = test_data[['a', 'H']]\n",
    "\n",
    "# 使用 SimpleImputer 填充缺失值\n",
    "imputer = SimpleImputer(strategy='mean')\n",
    "X_train = imputer.fit_transform(X_train)\n",
    "X_test = imputer.transform(X_test)\n",
    "\n",
    "# 創建 KNN 模型並訓練\n",
    "knn = KNeighborsClassifier(n_neighbors=5,p=1,weights='distance')\n",
    "knn.fit(X_train, y_train)\n",
    "\n",
    "# 預測測試數據中的 class_num\n",
    "y_pred = knn.predict(X_test)\n",
    "\n",
    "# 提取 id 和預測結果\n",
    "ids = test_data['id']\n",
    "predicted_class_num = y_pred\n",
    "\n",
    "# 添加 \"IDX, Target\" 到结果 DataFrame\n",
    "result_df = pd.DataFrame({'IDX': ids, 'Target': predicted_class_num})\n",
    "from sklearn.metrics import accuracy_score\n",
    "\n",
    "# 讀取測試數據的真實目標變數值\n",
    "true_values = test_data['class_num']\n",
    "\n",
    "# 計算預測準確率\n",
    "accuracy = accuracy_score(true_values, y_pred)\n",
    "\n",
    "print(\"預測準確率：\", accuracy)\n",
    "# 將結果保存為 CSV 文件\n",
    "result_df.to_csv('predicted_results5.csv', index=False)"
   ]
  }
 ],
 "metadata": {
  "kernelspec": {
   "display_name": "Python 3 (ipykernel)",
   "language": "python",
   "name": "python3"
  },
  "language_info": {
   "codemirror_mode": {
    "name": "ipython",
    "version": 3
   },
   "file_extension": ".py",
   "mimetype": "text/x-python",
   "name": "python",
   "nbconvert_exporter": "python",
   "pygments_lexer": "ipython3",
   "version": "3.11.5"
  }
 },
 "nbformat": 4,
 "nbformat_minor": 5
}
